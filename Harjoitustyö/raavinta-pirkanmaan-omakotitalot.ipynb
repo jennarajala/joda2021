{
  "cells": [
    {
      "cell_type": "markdown",
      "source": [
        "# Johdanto datatieteeseen 2021\r\n",
        "\r\n",
        "#### Harjoitustyö - osa 2 - datan kerääminen\r\n",
        "\r\n",
        "## Pirkanmaan omakotitalot\r\n",
        "\r\n",
        "Tässä notebookissa esitetään Tampereen yliopiston Johdanto datatieteeseen -kurssin harjoitustyötä varten Etuovi.com -sivustolta tehty datan raavinta Pirkanmaan alueella myynnissä olevista omakotitaloista.\r\n",
        "\r\n",
        "Haku Etuovi.com -sivustolla on tehty 24.4.2021"
      ],
      "metadata": {
        "nteract": {
          "transient": {
            "deleting": false
          }
        }
      }
    },
    {
      "cell_type": "code",
      "source": [
        "# Tarvittavat kirjastot\r\n",
        "from bs4 import BeautifulSoup as bs\r\n",
        "from IPython.display import clear_output\r\n",
        "from requests import get\r\n",
        "import pandas as pd\r\n",
        "\r\n",
        "print('Importing done!')"
      ],
      "outputs": [
        {
          "output_type": "stream",
          "name": "stdout",
          "text": [
            "Importing done!\n"
          ]
        }
      ],
      "execution_count": 2,
      "metadata": {
        "collapsed": true,
        "jupyter": {
          "source_hidden": false,
          "outputs_hidden": false
        },
        "nteract": {
          "transient": {
            "deleting": false
          }
        },
        "gather": {
          "logged": 1619346242435
        }
      }
    },
    {
      "cell_type": "code",
      "source": [
        "# Datan raapimiseen tarvittavat taustatiedot\r\n",
        "fileName = 'pirkanmaa_okt.csv'\r\n",
        "headers = ({'User-Agent': 'Mozilla/5.0 (Windows NT 6.1) AppleWebKit/537.36 (KHTML, like Gecko) Chrome/41.0.2228.0 Safari/537.36'})\r\n",
        "baseUrl = 'https://www.etuovi.com/myytavat-asunnot?haku=M1645601158&sivu='\r\n",
        "html = get(baseUrl, headers=headers)\r\n",
        "soup = bs(html.text, 'html.parser')\r\n",
        "\r\n",
        "houseCards = soup.find_all('div', class_=\"ListPage__cardContainer__39dKQ\")\r\n",
        "tabs = soup.find_all('button', class_=\"theme__button__1YqFK theme__flat__13aFK theme__button__1YqFK theme__squared__17Uvn theme__neutral__1F1Jf Button__button__3K-jn Pagination__button__3H2wX\")\r\n",
        "max_tab = int(tabs[-1].contents[0])\r\n",
        "print('Parameters set.')"
      ],
      "outputs": [
        {
          "output_type": "stream",
          "name": "stdout",
          "text": [
            "Parameters set.\n"
          ]
        }
      ],
      "execution_count": 3,
      "metadata": {
        "collapsed": true,
        "jupyter": {
          "source_hidden": false,
          "outputs_hidden": false
        },
        "nteract": {
          "transient": {
            "deleting": false
          }
        },
        "gather": {
          "logged": 1619346245709
        }
      }
    },
    {
      "cell_type": "code",
      "source": [
        "#Testataan yhteys sivustoon\r\n",
        "print(html.text[:1000])"
      ],
      "outputs": [
        {
          "output_type": "stream",
          "name": "stdout",
          "text": [
            "\n",
            "<!DOCTYPE html>\n",
            "<html lang=\"fi\">\n",
            "    <head>\n",
            "        <script>\n",
            "            window.etuovi = {\n",
            "                ad: {\n",
            "                    qskvconsent: false,\n",
            "                    placements: {}\n",
            "                }\n",
            "            }\n",
            "        </script>\n",
            "        <script>\n",
            "        (function(){\n",
            "            window.etuovi.cmpConfiguration = {\n",
            "                ads: {\n",
            "                    functional: [0]\n",
            "                },\n",
            "                facebookLogin: {\n",
            "                    functional: [0]\n",
            "                },\n",
            "                giosgChat: {\n",
            "                    functional: [0]\n",
            "                },\n",
            "                googleAnalytics: {\n",
            "                    standard: [1, 8]\n",
            "                },\n",
            "                habitaChat: {\n",
            "                    functional: [0]\n",
            "                },\n",
            "                nps: {\n",
            "                    functional: [0]\n",
            "                },\n",
            "                recaptcha: {\n",
            "                    functional: [0]\n",
            "                },\n",
            "                leadooChat: {\n",
            "                    standard: [1],\n",
            "                    spe\n"
          ]
        }
      ],
      "execution_count": 4,
      "metadata": {
        "collapsed": true,
        "jupyter": {
          "source_hidden": false,
          "outputs_hidden": false
        },
        "nteract": {
          "transient": {
            "deleting": false
          }
        },
        "gather": {
          "logged": 1619346247975
        }
      }
    },
    {
      "cell_type": "code",
      "source": [
        "# Datan raavinta\r\n",
        "data = {\r\n",
        "'Alue': [],\r\n",
        "'Kaupunki': [],\r\n",
        "'Osoite': [],\r\n",
        "'Hinta': [],\r\n",
        "'Asuinpinta-ala': [],\r\n",
        "'Kokonaispinta-ala': [],\r\n",
        "'Yksikkö': [],\r\n",
        "'Vuosi': [],\r\n",
        "'Sauna': [],\r\n",
        "'Huoneluku': [],\r\n",
        "'Ominaisuudet': [],\r\n",
        "}\r\n",
        "\r\n",
        "# Loopataan kaikki tulosvälilehdet läpi\r\n",
        "for i in range(max_tab):\r\n",
        "    clear_output(wait=True)\r\n",
        "\r\n",
        "    baseUrl = f'https://www.etuovi.com/myytavat-asunnot?haku=M1645601158&sivu={i+1}'\r\n",
        "    html = get(baseUrl, headers=headers)\r\n",
        "    soup = bs(html.text, 'html.parser')\r\n",
        "\r\n",
        "    houseCards = soup.find_all('div', class_=\"ListPage__cardContainer__39dKQ\")\r\n",
        "\r\n",
        "    for temp in houseCards:\r\n",
        "        spans = temp.find_all('span')\r\n",
        "\r\n",
        "        isSize = False\r\n",
        "        isPrice = False\r\n",
        "        isYear = False\r\n",
        "\r\n",
        "        # Raavitaan asunnon hinta, koko ja rakennusvuosi\r\n",
        "        for item in spans:\r\n",
        "            if isPrice:\r\n",
        "                price = item.contents[0].replace('\\xa0', '')[:-1]\r\n",
        "                price = float(price.replace(',','.'))\r\n",
        "                isPrice = False\r\n",
        "            elif isSize:\r\n",
        "                new_item = item.contents[0]\r\n",
        "                if \" / \" in new_item:\r\n",
        "                    size, whole_size_temp = new_item.split(' / ')\r\n",
        "                    whole_size, unit = whole_size_temp.split(' ')\r\n",
        "                    isSize = False\r\n",
        "                else :\r\n",
        "                    raw_size = item.contents[0]\r\n",
        "                    try:\r\n",
        "                        size, unit = raw_size.split(' ') \r\n",
        "                        whole_size = size\r\n",
        "                    except ValueError:\r\n",
        "                        print('Error!')\r\n",
        "                    isSize = False\r\n",
        "            elif isYear:\r\n",
        "                try:\r\n",
        "                    year = int(item.contents[0])\r\n",
        "                except ValueError:\r\n",
        "                    year = None\r\n",
        "                isYear = False\r\n",
        "            else:\r\n",
        "                if 'Hinta' in item.contents and 'Hintamuutos' not in item.contents:\r\n",
        "                    isPrice = True\r\n",
        "                elif 'Koko' in item.contents:\r\n",
        "                    isSize = True\r\n",
        "                elif 'Vuosi' in item.contents:\r\n",
        "                    isYear = True\r\n",
        "\r\n",
        "\r\n",
        "        # Raavitaan osoitetiedot\r\n",
        "        raw_address = temp.find('h4').contents[0]\r\n",
        "        info = []\r\n",
        "        info = raw_address.split(', ')\r\n",
        "        for i in info:\r\n",
        "            if i == '':  # Tarkistetaan, onko joukossa tyhjiä arvoja ja poistetaan tyhjät\r\n",
        "                info.remove(i) \r\n",
        "        if len(info) == 3:\r\n",
        "            address, area, city = info[0], info[1], info[2] # Osoite, Alue, Kaupunki\r\n",
        "        elif len(info) == 2:\r\n",
        "            address, city = raw_address.split(', ')\r\n",
        "        else:\r\n",
        "            address = raw_address\r\n",
        "\r\n",
        "        # Raavitaan muut tiedot\r\n",
        "        raw_type = temp.find('h5').contents[0]\r\n",
        "        try:\r\n",
        "            house_type, raw_attributes = raw_type.split(' | ')\r\n",
        "            raw_attributes.replace(',', '+')\r\n",
        "            attributes = raw_attributes.split(' + ') # Ominaisuudet\r\n",
        "        except ValueError:\r\n",
        "            house_type = raw_type\r\n",
        "\r\n",
        "        # Lisätään tiedot muuttujiin\r\n",
        "        data['Alue'].append(area.strip())\r\n",
        "        data['Kaupunki'].append(city.strip())\r\n",
        "        data['Osoite'].append(address.strip())\r\n",
        "        data['Hinta'].append(price)\r\n",
        "        data['Asuinpinta-ala'].append(size)\r\n",
        "        data['Kokonaispinta-ala'].append(whole_size)\r\n",
        "        data['Yksikkö'].append(unit)\r\n",
        "        data['Vuosi'].append(year)\r\n",
        "        data['Huoneluku'].append(attributes[0])\r\n",
        "\r\n",
        "        # Tarkistetaan, onko talossa sauna\r\n",
        "        if 's' in attributes:\r\n",
        "            sauna = True\r\n",
        "        else:\r\n",
        "            sauna = False\r\n",
        "\r\n",
        "        # Lisätään tieto saunasta, ja muut tiedot ominaisuuksiin\r\n",
        "        data['Sauna'].append(sauna)\r\n",
        "        data['Ominaisuudet'].append(attributes)\r\n",
        "    \r\n",
        "# Tallennetaan tiedot uuteen dataframeen\r\n",
        "df = pd.DataFrame(data)\r\n",
        "df.to_csv(f'{fileName}')\r\n",
        "print('Done scraping')\r\n",
        "print(f'{len(df)} rows loaded.')\r\n",
        "\r\n",
        "# Tulostetaan dataframen tiedot\r\n",
        "print(\"Here is the info of your dataframe:\")\r\n",
        "print(df.info())\r\n",
        "\r\n",
        "# Tulostetaan dataframen ensimmäiset rivit\r\n",
        "print(\"Here are the top rows of your dataframe:\")\r\n",
        "print(df.head())"
      ],
      "outputs": [
        {
          "output_type": "stream",
          "name": "stdout",
          "text": [
            "Done scraping\n",
            "297 rows loaded.\n",
            "Here is the info of your dataframe:\n",
            "<class 'pandas.core.frame.DataFrame'>\n",
            "RangeIndex: 297 entries, 0 to 296\n",
            "Data columns (total 11 columns):\n",
            "Alue                 297 non-null object\n",
            "Kaupunki             297 non-null object\n",
            "Osoite               297 non-null object\n",
            "Hinta                297 non-null float64\n",
            "Asuinpinta-ala       297 non-null object\n",
            "Kokonaispinta-ala    297 non-null object\n",
            "Yksikkö              297 non-null object\n",
            "Vuosi                288 non-null float64\n",
            "Sauna                297 non-null bool\n",
            "Huoneluku            297 non-null object\n",
            "Ominaisuudet         297 non-null object\n",
            "dtypes: bool(1), float64(2), object(8)\n",
            "memory usage: 23.6+ KB\n",
            "None\n",
            "Here are the top rows of your dataframe:\n",
            "            Alue  Kaupunki                Osoite     Hinta Asuinpinta-ala  \\\n",
            "0      Metsäkylä  Ylöjärvi      Metsäkyläntie 31  210000.0            119   \n",
            "1  Koivistonkylä   Tampere      Rintamäenkatu 30  365000.0            212   \n",
            "2        Leinola   Tampere        Kalervonkatu 9  339000.0            167   \n",
            "3    Ryydynpohja   Tampere  Peltopirtinkatu 10 A  378000.0            135   \n",
            "4    Harjuniitty     Nokia      Jyränmaankatu 34  426000.0            168   \n",
            "\n",
            "  Kokonaispinta-ala Yksikkö   Vuosi  Sauna  \\\n",
            "0               119      m²  1977.0  False   \n",
            "1             322,7      m²  1973.0  False   \n",
            "2               167      m²  1991.0  False   \n",
            "3               153      m²  1997.0  False   \n",
            "4               238      m²  2009.0  False   \n",
            "\n",
            "                                           Huoneluku  \\\n",
            "0                                  4h, k, khh, wc, s   \n",
            "1  4mh, oh, k, khh, 2wc, pkh, kph, s, th, uima-al...   \n",
            "2  Oh, k, 4 mh, s, ph / wc, wc. Omalla sisäänkäyn...   \n",
            "3                                                 oh   \n",
            "4                  4mh, oh, k, 2xwc, kph, khh, sauna   \n",
            "\n",
            "                                        Ominaisuudet  \n",
            "0                                [4h, k, khh, wc, s]  \n",
            "1  [4mh, oh, k, khh, 2wc, pkh, kph, s, th, uima-a...  \n",
            "2  [Oh, k, 4 mh, s, ph / wc, wc. Omalla sisäänkäy...  \n",
            "3  [oh, k, 3 mh, wc, pesuh / khh, sauna, kh / wc,...  \n",
            "4  [4mh, oh, k, 2xwc, kph, khh, sauna, autotalli,...  \n"
          ]
        }
      ],
      "execution_count": 15,
      "metadata": {
        "collapsed": true,
        "jupyter": {
          "source_hidden": false,
          "outputs_hidden": false
        },
        "nteract": {
          "transient": {
            "deleting": false
          }
        },
        "gather": {
          "logged": 1619347363170
        }
      }
    }
  ],
  "metadata": {
    "kernelspec": {
      "name": "python3",
      "language": "python",
      "display_name": "Python 3"
    },
    "language_info": {
      "name": "python",
      "version": "3.6.9",
      "mimetype": "text/x-python",
      "codemirror_mode": {
        "name": "ipython",
        "version": 3
      },
      "pygments_lexer": "ipython3",
      "nbconvert_exporter": "python",
      "file_extension": ".py"
    },
    "kernel_info": {
      "name": "python3"
    },
    "nteract": {
      "version": "nteract-front-end@1.0.0"
    },
    "microsoft": {
      "host": {
        "AzureML": {
          "notebookHasBeenCompleted": true
        }
      }
    }
  },
  "nbformat": 4,
  "nbformat_minor": 2
}