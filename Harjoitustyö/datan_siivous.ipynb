{
  "cells": [
    {
      "cell_type": "markdown",
      "source": [
        "# Johdanto datatieteeseen 2021\r\n",
        "\r\n",
        "#### Harjoitustyö - osa 3 - datan siivoaminen ja jalostaminen\r\n",
        "\r\n",
        "\r\n",
        "Tässä notebookissa esitetään Tampereen yliopiston Johdanto datatieteeseen -kurssin harjoitustyötä varten Etuovi.com -sivustolta raavitun datan siivoaminen ja jalostaminen.\r\n"
      ],
      "metadata": {
        "nteract": {
          "transient": {
            "deleting": false
          }
        }
      }
    },
    {
      "cell_type": "code",
      "source": [
        "# Luetaan .csv-tiedosto dataframeksi Pandas-kirjaston avulla\r\n",
        "\r\n",
        "import pandas as pd\r\n",
        "\r\n",
        "df = pd.read_csv(\"pirkanmaa_okt.csv\")\r\n",
        "print(df.info())"
      ],
      "outputs": [
        {
          "output_type": "stream",
          "name": "stdout",
          "text": [
            "<class 'pandas.core.frame.DataFrame'>\n",
            "RangeIndex: 297 entries, 0 to 296\n",
            "Data columns (total 12 columns):\n",
            "Unnamed: 0           297 non-null int64\n",
            "Alue                 297 non-null object\n",
            "Kaupunki             297 non-null object\n",
            "Osoite               297 non-null object\n",
            "Hinta                297 non-null float64\n",
            "Asuinpinta-ala       297 non-null object\n",
            "Kokonaispinta-ala    297 non-null object\n",
            "Yksikkö              297 non-null object\n",
            "Vuosi                297 non-null float64\n",
            "Sauna                297 non-null bool\n",
            "Huoneluku            297 non-null object\n",
            "Ominaisuudet         297 non-null object\n",
            "dtypes: bool(1), float64(2), int64(1), object(8)\n",
            "memory usage: 25.9+ KB\n",
            "None\n"
          ]
        }
      ],
      "execution_count": 1,
      "metadata": {
        "gather": {
          "logged": 1619373960477
        }
      }
    },
    {
      "cell_type": "code",
      "source": [
        "print(df.head())"
      ],
      "outputs": [
        {
          "output_type": "stream",
          "name": "stdout",
          "text": [
            "   Unnamed: 0           Alue  Kaupunki                Osoite     Hinta  \\\n",
            "0           0      Metsäkylä  Ylöjärvi      Metsäkyläntie 31  210000.0   \n",
            "1           1  Koivistonkylä   Tampere      Rintamäenkatu 30  365000.0   \n",
            "2           2        Leinola   Tampere        Kalervonkatu 9  339000.0   \n",
            "3           3    Ryydynpohja   Tampere  Peltopirtinkatu 10 A  378000.0   \n",
            "4           4    Harjuniitty     Nokia      Jyränmaankatu 34  426000.0   \n",
            "\n",
            "  Asuinpinta-ala Kokonaispinta-ala Yksikkö   Vuosi  Sauna  \\\n",
            "0            119               119      m²  1977.0  False   \n",
            "1            212             322,7      m²  1973.0  False   \n",
            "2            167               167      m²  1991.0  False   \n",
            "3            135               153      m²  1997.0  False   \n",
            "4            168               238      m²  2009.0  False   \n",
            "\n",
            "                                           Huoneluku  \\\n",
            "0                                  4h, k, khh, wc, s   \n",
            "1  4mh, oh, k, khh, 2wc, pkh, kph, s, th, uima-al...   \n",
            "2  Oh, k, 4 mh, s, ph / wc, wc. Omalla sisäänkäyn...   \n",
            "3                                                 oh   \n",
            "4                  4mh, oh, k, 2xwc, kph, khh, sauna   \n",
            "\n",
            "                                        Ominaisuudet  \n",
            "0                              ['4h, k, khh, wc, s']  \n",
            "1  ['4mh, oh, k, khh, 2wc, pkh, kph, s, th, uima-...  \n",
            "2  ['Oh, k, 4 mh, s, ph / wc, wc. Omalla sisäänkä...  \n",
            "3  ['oh', 'k', '3 mh', 'wc', 'pesuh / khh', 'saun...  \n",
            "4  ['4mh, oh, k, 2xwc, kph, khh, sauna', 'autotal...  \n"
          ]
        }
      ],
      "execution_count": 2,
      "metadata": {
        "collapsed": true,
        "jupyter": {
          "source_hidden": false,
          "outputs_hidden": false
        },
        "nteract": {
          "transient": {
            "deleting": false
          }
        },
        "gather": {
          "logged": 1619373992040
        }
      }
    },
    {
      "cell_type": "code",
      "source": [
        "# Muokataan Vuosi kolumnin datatyypiksi int\r\n",
        "\r\n",
        "df['Vuosi'] = df['Vuosi'].astype(int)\r\n",
        "print(df.dtypes)"
      ],
      "outputs": [
        {
          "output_type": "stream",
          "name": "stdout",
          "text": [
            "Unnamed: 0             int64\n",
            "Alue                  object\n",
            "Kaupunki              object\n",
            "Osoite                object\n",
            "Hinta                float64\n",
            "Asuinpinta-ala        object\n",
            "Kokonaispinta-ala     object\n",
            "Yksikkö               object\n",
            "Vuosi                  int64\n",
            "Sauna                   bool\n",
            "Huoneluku             object\n",
            "Ominaisuudet          object\n",
            "dtype: object\n"
          ]
        }
      ],
      "execution_count": 3,
      "metadata": {
        "collapsed": true,
        "jupyter": {
          "source_hidden": false,
          "outputs_hidden": false
        },
        "nteract": {
          "transient": {
            "deleting": false
          }
        },
        "gather": {
          "logged": 1619373996907
        }
      }
    },
    {
      "cell_type": "code",
      "source": [
        "# Poistetaan turha kolumni\r\n",
        "\r\n",
        "df.drop('Unnamed: 0', inplace=True, axis=1)"
      ],
      "outputs": [],
      "execution_count": 4,
      "metadata": {
        "collapsed": true,
        "jupyter": {
          "source_hidden": false,
          "outputs_hidden": false
        },
        "nteract": {
          "transient": {
            "deleting": false
          }
        },
        "gather": {
          "logged": 1619374016498
        }
      }
    },
    {
      "cell_type": "code",
      "source": [
        "# Lisätään uusi kolumni tarkempien osotetietojen hakemista varten\r\n",
        "\r\n",
        "df['Koko_Osoite'] = df['Osoite'] + ' ' + df['Kaupunki']\r\n",
        "print(df)"
      ],
      "outputs": [
        {
          "output_type": "stream",
          "name": "stdout",
          "text": [
            "              Alue  Kaupunki                Osoite     Hinta Asuinpinta-ala  \\\n",
            "0        Metsäkylä  Ylöjärvi      Metsäkyläntie 31  210000.0            119   \n",
            "1    Koivistonkylä   Tampere      Rintamäenkatu 30  365000.0            212   \n",
            "2          Leinola   Tampere        Kalervonkatu 9  339000.0            167   \n",
            "3      Ryydynpohja   Tampere  Peltopirtinkatu 10 A  378000.0            135   \n",
            "4      Harjuniitty     Nokia      Jyränmaankatu 34  426000.0            168   \n",
            "..             ...       ...                   ...       ...            ...   \n",
            "292         Pinsiö     Nokia    Poikkilinjantie 60  248000.0            106   \n",
            "293           Kuru  Ylöjärvi         Hatolankuja 3  360000.0            300   \n",
            "294           Kuru  Lempäälä        Toutosentie 47  380000.0            195   \n",
            "295           Kuru  Ylöjärvi    Välivainionkuja 11  197000.0             80   \n",
            "296  Koivistonkylä   Tampere       Koivistontie 57  160000.0            100   \n",
            "\n",
            "    Kokonaispinta-ala Yksikkö  Vuosi  Sauna  \\\n",
            "0                 119      m²   1977  False   \n",
            "1               322,7      m²   1973  False   \n",
            "2                 167      m²   1991  False   \n",
            "3                 153      m²   1997  False   \n",
            "4                 238      m²   2009  False   \n",
            "..                ...     ...    ...    ...   \n",
            "292               106      m²   1990  False   \n",
            "293               340      m²   2018  False   \n",
            "294               450      m²   1946  False   \n",
            "295               144      m²   2011  False   \n",
            "296               164      m²   1928  False   \n",
            "\n",
            "                                             Huoneluku  \\\n",
            "0                                    4h, k, khh, wc, s   \n",
            "1    4mh, oh, k, khh, 2wc, pkh, kph, s, th, uima-al...   \n",
            "2    Oh, k, 4 mh, s, ph / wc, wc. Omalla sisäänkäyn...   \n",
            "3                                                   oh   \n",
            "4                    4mh, oh, k, 2xwc, kph, khh, sauna   \n",
            "..                                                 ...   \n",
            "292                                                 3h   \n",
            "293                                                 7h   \n",
            "294                                                 7h   \n",
            "295                                      3h, k, s, khh   \n",
            "296              4h, k, kph, sauna, kellari, autotalli   \n",
            "\n",
            "                                          Ominaisuudet  \\\n",
            "0                                ['4h, k, khh, wc, s']   \n",
            "1    ['4mh, oh, k, khh, 2wc, pkh, kph, s, th, uima-...   \n",
            "2    ['Oh, k, 4 mh, s, ph / wc, wc. Omalla sisäänkä...   \n",
            "3    ['oh', 'k', '3 mh', 'wc', 'pesuh / khh', 'saun...   \n",
            "4    ['4mh, oh, k, 2xwc, kph, khh, sauna', 'autotal...   \n",
            "..                                                 ...   \n",
            "292                          ['3h', 'k', 'saunatilat']   \n",
            "293                    ['7h', 'kt', '2wc', 'kth', 't']   \n",
            "294  ['7h', 'k', 'aula', 'kph / wc', 'wc', '2vh', '...   \n",
            "295                                  ['3h, k, s, khh']   \n",
            "296          ['4h, k, kph, sauna, kellari, autotalli']   \n",
            "\n",
            "                      Koko_Osoite  \n",
            "0       Metsäkyläntie 31 Ylöjärvi  \n",
            "1        Rintamäenkatu 30 Tampere  \n",
            "2          Kalervonkatu 9 Tampere  \n",
            "3    Peltopirtinkatu 10 A Tampere  \n",
            "4          Jyränmaankatu 34 Nokia  \n",
            "..                            ...  \n",
            "292      Poikkilinjantie 60 Nokia  \n",
            "293        Hatolankuja 3 Ylöjärvi  \n",
            "294       Toutosentie 47 Lempäälä  \n",
            "295   Välivainionkuja 11 Ylöjärvi  \n",
            "296       Koivistontie 57 Tampere  \n",
            "\n",
            "[297 rows x 12 columns]\n"
          ]
        }
      ],
      "execution_count": 6,
      "metadata": {
        "collapsed": true,
        "jupyter": {
          "source_hidden": false,
          "outputs_hidden": false
        },
        "nteract": {
          "transient": {
            "deleting": false
          }
        },
        "gather": {
          "logged": 1619374136992
        }
      }
    },
    {
      "cell_type": "code",
      "source": [
        "!pip install geopy"
      ],
      "outputs": [
        {
          "output_type": "stream",
          "name": "stdout",
          "text": [
            "Collecting geopy\n",
            "  Downloading geopy-2.1.0-py3-none-any.whl (112 kB)\n",
            "\u001b[K     |████████████████████████████████| 112 kB 16.3 MB/s eta 0:00:01\n",
            "\u001b[?25hCollecting geographiclib<2,>=1.49\n",
            "  Downloading geographiclib-1.50-py3-none-any.whl (38 kB)\n",
            "Installing collected packages: geographiclib, geopy\n",
            "Successfully installed geographiclib-1.50 geopy-2.1.0\n"
          ]
        }
      ],
      "execution_count": 7,
      "metadata": {
        "collapsed": true,
        "jupyter": {
          "source_hidden": false,
          "outputs_hidden": false
        },
        "nteract": {
          "transient": {
            "deleting": false
          }
        }
      }
    },
    {
      "cell_type": "code",
      "source": [
        "# Haetaan tiedot asuntojen tarkasta sijainnista, ja tallennetaan ne uusiin kolumneihin\r\n",
        "\r\n",
        "from geopy.geocoders import Nominatim\r\n",
        "geolocator = Nominatim(user_agent=\"joda\")\r\n",
        "\r\n",
        "pituuspiiri = [] \r\n",
        "leveyspiiri = []\r\n",
        "for i in df['Koko_Osoite']:\r\n",
        "    try:\r\n",
        "        location = geolocator.geocode(i)\r\n",
        "        pituuspiiri.append(location.longitude)\r\n",
        "        leveyspiiri.append(location.latitude)\r\n",
        "    except:\r\n",
        "        pituuspiiri.append('NaN')\r\n",
        "        leveyspiiri.append('NaN')\r\n",
        "\r\n",
        "df['Pituuspiiri'] = pituuspiiri\r\n",
        "df['Leveyspiiri'] = leveyspiiri\r\n"
      ],
      "outputs": [],
      "execution_count": 11,
      "metadata": {
        "collapsed": true,
        "jupyter": {
          "source_hidden": false,
          "outputs_hidden": false
        },
        "nteract": {
          "transient": {
            "deleting": false
          }
        },
        "gather": {
          "logged": 1619375814564
        }
      }
    },
    {
      "cell_type": "code",
      "source": [
        "# Tallennetaan myös koko tarkka osoitetieto varmuuden vuoksi uuteen kolumniin\r\n",
        "\r\n",
        "tarkka_osoite = []\r\n",
        "for i in df['Koko_Osoite']:\r\n",
        "    try:\r\n",
        "        location = geolocator.geocode(i)\r\n",
        "        tarkka_osoite.append(location)\r\n",
        "    except:\r\n",
        "        tarkka_osoite.append('NaN')\r\n",
        "\r\n",
        "df['Tarkka_osoite'] = tarkka_osoite"
      ],
      "outputs": [],
      "execution_count": 14,
      "metadata": {
        "collapsed": true,
        "jupyter": {
          "source_hidden": false,
          "outputs_hidden": false
        },
        "nteract": {
          "transient": {
            "deleting": false
          }
        },
        "gather": {
          "logged": 1619376602575
        }
      }
    },
    {
      "cell_type": "code",
      "source": [
        "# Poistetaan vielä muutama turha kolumni\r\n",
        "\r\n",
        "df.drop('Huoneluku', inplace=True, axis=1)\r\n",
        "df.drop('Ominaisuudet', inplace=True, axis=1)\r\n",
        "print(df.info())"
      ],
      "outputs": [
        {
          "output_type": "stream",
          "name": "stdout",
          "text": [
            "<class 'pandas.core.frame.DataFrame'>\n",
            "RangeIndex: 297 entries, 0 to 296\n",
            "Data columns (total 13 columns):\n",
            "Alue                 297 non-null object\n",
            "Kaupunki             297 non-null object\n",
            "Osoite               297 non-null object\n",
            "Hinta                297 non-null float64\n",
            "Asuinpinta-ala       297 non-null object\n",
            "Kokonaispinta-ala    297 non-null object\n",
            "Yksikkö              297 non-null object\n",
            "Vuosi                297 non-null int64\n",
            "Sauna                297 non-null bool\n",
            "Koko_Osoite          297 non-null object\n",
            "Pituuspiiri          297 non-null object\n",
            "Leveyspiiri          297 non-null object\n",
            "Tarkka_osoite        274 non-null object\n",
            "dtypes: bool(1), float64(1), int64(1), object(10)\n",
            "memory usage: 28.3+ KB\n",
            "None\n"
          ]
        }
      ],
      "execution_count": 17,
      "metadata": {
        "collapsed": true,
        "jupyter": {
          "source_hidden": false,
          "outputs_hidden": false
        },
        "nteract": {
          "transient": {
            "deleting": false
          }
        },
        "gather": {
          "logged": 1619377317951
        }
      }
    },
    {
      "cell_type": "code",
      "source": [
        "# Lopuksi tallennetaan dataframe uudeksi .csv-tiedostoksi\r\n",
        "\r\n",
        "df.to_csv(\"siivottu_pirkanmaa_okt.csv\")"
      ],
      "outputs": [],
      "execution_count": 18,
      "metadata": {
        "collapsed": true,
        "jupyter": {
          "source_hidden": false,
          "outputs_hidden": false
        },
        "nteract": {
          "transient": {
            "deleting": false
          }
        },
        "gather": {
          "logged": 1619377328191
        }
      }
    }
  ],
  "metadata": {
    "kernelspec": {
      "name": "python3-azureml",
      "language": "python",
      "display_name": "Python 3.6 - AzureML"
    },
    "language_info": {
      "name": "python",
      "version": "3.6.9",
      "mimetype": "text/x-python",
      "codemirror_mode": {
        "name": "ipython",
        "version": 3
      },
      "pygments_lexer": "ipython3",
      "nbconvert_exporter": "python",
      "file_extension": ".py"
    },
    "kernel_info": {
      "name": "python3-azureml"
    },
    "nteract": {
      "version": "nteract-front-end@1.0.0"
    },
    "microsoft": {
      "host": {
        "AzureML": {
          "notebookHasBeenCompleted": true
        }
      }
    }
  },
  "nbformat": 4,
  "nbformat_minor": 2
}