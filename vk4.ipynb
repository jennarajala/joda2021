{
 "cells": [
  {
   "cell_type": "markdown",
   "id": "mature-enlargement",
   "metadata": {},
   "source": [
    "# Oppimispäiväkirja - Viikko 4\n",
    "\n",
    "Tämän viikon luennolta inspiroituneena halusin perehtyä lisää CRISP-DM:ään. Kurssilla on noussut monesti esille se, kuinka tärkeää on liiketoiminnan ymmärtäminen analyysien taustalla. Organisaatiot tarvitsevatkin analytiikan lisäksi myös konsultaatiota liiketoimintaongelmien löytämiseen. Olen aikaisemmilla viikoilla muistaakseni kaivannut prosesseja (koska tietojohtajana prosessit on pop) nyt viimeistään sain sellaisen.\n",
    "\n",
    "1. Business understanding – Ymmärtää organisaation liiketoimintaa ja tunnistaa organisaation tarpeet.\n",
    "2. Data understanding – Tiedostaa, mitä dataa on saatavilla ja missä muodossa, sekä toisaalta, mitä dataa todellisuudessa tarvitaan, sekä tunnistaa näiden välinen ero. \n",
    "3. Data preparation – Siivoa data niin, että sitä voi käyttää mallinnuksessa.\n",
    "4. Modeling – Osaa valita kyseiseen tapaukseen parhaiten soveltuvat mallinnustekniikat.\n",
    "5. Evaluation – Valitsee parhaiten kuvaavan mallin.\n",
    "6. Deployment – Vie mallin tuotantoon niin, että se alkaa tuottaa arvoa sidosryhmille.\n",
    "\n",
    "Luennolla esitelty Houston Analyticsin malli Problem-Solution tiimeistä oli mielestäni myös erittäin järkevän kuuloinen lähestymistapa datatieteen toteutukseen. Mietin kuitenkin, että ajattelumallia voisi varmasti soveltaa myös ilman, että muodostaisi erillisiä tiimejä. Eli jatkuvasti tarkastelisiin myös liiketoiminnan näkökulmasta toimintaa ja edettäisiin iteratiivisesti. Toisaalta silloin kun nämä jakaa kahteen eri tiimiin ja tiimit tekevät tiiviisti yhteistyötä, voi molemmat tiimit keskittyä täysin omaan osuuteensa ja tukea samalla toistensa työtä.\n",
    "\n",
    "### Tärkeimmät opit\n",
    "1. CRISP-DM prosessi.\n",
    "2. Jakautuminen Problem-Solution tiimeihin ongelman ratkaisemiseksi.\n",
    "3. Liiketoiminta ja liiketoimintaongelmien tunnistaminen tulee olla kaiken analytiikan taustalla.\n",
    "4. Valmiita kirjastoja ja palveluita on olemassa laidasta laitaan ja lähes joka tarkoitukseen.\n",
    "5. Datatieteessä ei välttämättä ole oikeaa tapaa tehdä asioita, vaan mahdollisia toteutustapoja on äärettömän monia.\n",
    "\n",
    "### Risut ja ruusut luentoviikolle\n",
    "- Tämä luento olisi varmasti ollut paljon parempi niin, että olisi itse ollut Zoomissa paikan päällä. Luentotallenteena ei toiminut niin hyvin, kun ei päässyt osallistumaan ryhmäkeskusteluihin. Nyt luento jakautui irrallisiksi kokonaisuuksiksi, jolloin seuraaminen hankaloitui jonkun verran.\n",
    "- On huippua, että luennoilla annetaan paljon esimerkkejä erilaisista kirjastoista ja palveluista (kuten tällä viikolla Jinja2, jQuery ja steamlit), joita voi käyttää harjoitustyössä ja ehkä joskus tulevaisuudessa työelämässä hyödyksi. \n",
    "\n",
    "### Kehitysehdotukset \n",
    "- Voisiko CRISP-DM prosessia käyttää hyväksi myös luentojen järjestyksen suunnittelussa? Tämä liiketoiminnan tunnistamisen ja sen ymmärtämisen tärkeys olisi voinut toimia paremmin ensimmäisten luentojen joukossa, ennen kun ollaan siirrytty datan siivoamiseen ja mallintamiseen. Näin datatieteen prosessikin voisi olla helpompi hahmottaa.\n",
    "\n",
    "## Linkit ja lähteet\n",
    "- What is CRISP-DM: https://www.datascience-pm.com/crisp-dm-2/\n",
    "- Houston Analytics Project Methodology: https://www.houston-analytics.com/project-methodology\n",
    "\n",
    "*(Katsoin molemmat oppimistapahtumat tallenteina. Aineistona käytetty luentoa, luentomuistiota ja koodiklinikkaa.)*"
   ]
  },
  {
   "cell_type": "code",
   "execution_count": 2,
   "id": "amino-george",
   "metadata": {},
   "outputs": [],
   "source": [
    "# Koodiesimerkki - vk 4\n",
    "\n",
    "# Haetaan tarvittavat kirjastot\n",
    "import pandas as pd\n",
    "import numpy as np\n",
    "\n",
    "from sklearn import preprocessing\n",
    "from sklearn import linear_model\n",
    "from sklearn.model_selection import cross_val_predict\n",
    "from sklearn.impute import SimpleImputer\n",
    "\n",
    "import matplotlib.pyplot as plt\n",
    "import os"
   ]
  },
  {
   "cell_type": "code",
   "execution_count": 3,
   "id": "understood-component",
   "metadata": {},
   "outputs": [
    {
     "name": "stdout",
     "output_type": "stream",
     "text": [
      "<class 'pandas.core.frame.DataFrame'>\n",
      "RangeIndex: 16313 entries, 0 to 16312\n",
      "Data columns (total 96 columns):\n",
      " #   Column                            Non-Null Count  Dtype  \n",
      "---  ------                            --------------  -----  \n",
      " 0   id                                16313 non-null  int64  \n",
      " 1   listing_url                       16313 non-null  object \n",
      " 2   scrape_id                         16313 non-null  int64  \n",
      " 3   last_scraped                      16313 non-null  object \n",
      " 4   name                              16302 non-null  object \n",
      " 5   summary                           15860 non-null  object \n",
      " 6   space                             11798 non-null  object \n",
      " 7   description                       16305 non-null  object \n",
      " 8   experiences_offered               16313 non-null  object \n",
      " 9   neighborhood_overview             10343 non-null  object \n",
      " 10  notes                             6734 non-null   object \n",
      " 11  transit                           10186 non-null  object \n",
      " 12  access                            9057 non-null   object \n",
      " 13  interaction                       9196 non-null   object \n",
      " 14  house_rules                       10189 non-null  object \n",
      " 15  thumbnail_url                     0 non-null      float64\n",
      " 16  medium_url                        0 non-null      float64\n",
      " 17  picture_url                       16313 non-null  object \n",
      " 18  xl_picture_url                    0 non-null      float64\n",
      " 19  host_id                           16313 non-null  int64  \n",
      " 20  host_url                          16313 non-null  object \n",
      " 21  host_name                         16284 non-null  object \n",
      " 22  host_since                        16284 non-null  object \n",
      " 23  host_location                     16223 non-null  object \n",
      " 24  host_about                        9965 non-null   object \n",
      " 25  host_response_time                13805 non-null  object \n",
      " 26  host_response_rate                13805 non-null  object \n",
      " 27  host_acceptance_rate              0 non-null      float64\n",
      " 28  host_is_superhost                 16284 non-null  object \n",
      " 29  host_thumbnail_url                16284 non-null  object \n",
      " 30  host_picture_url                  16284 non-null  object \n",
      " 31  host_neighbourhood                11888 non-null  object \n",
      " 32  host_listings_count               16284 non-null  float64\n",
      " 33  host_total_listings_count         16284 non-null  float64\n",
      " 34  host_verifications                16313 non-null  object \n",
      " 35  host_has_profile_pic              16284 non-null  object \n",
      " 36  host_identity_verified            16284 non-null  object \n",
      " 37  street                            16313 non-null  object \n",
      " 38  neighbourhood                     16309 non-null  object \n",
      " 39  neighbourhood_cleansed            16313 non-null  object \n",
      " 40  neighbourhood_group_cleansed      16313 non-null  object \n",
      " 41  city                              16311 non-null  object \n",
      " 42  state                             16230 non-null  object \n",
      " 43  zipcode                           15693 non-null  object \n",
      " 44  market                            16262 non-null  object \n",
      " 45  smart_location                    16313 non-null  object \n",
      " 46  country_code                      16313 non-null  object \n",
      " 47  country                           16312 non-null  object \n",
      " 48  latitude                          16313 non-null  float64\n",
      " 49  longitude                         16313 non-null  float64\n",
      " 50  is_location_exact                 16313 non-null  object \n",
      " 51  property_type                     16313 non-null  object \n",
      " 52  room_type                         16313 non-null  object \n",
      " 53  accommodates                      16313 non-null  int64  \n",
      " 54  bathrooms                         16275 non-null  float64\n",
      " 55  bedrooms                          16308 non-null  float64\n",
      " 56  beds                              16281 non-null  float64\n",
      " 57  bed_type                          16313 non-null  object \n",
      " 58  amenities                         16313 non-null  object \n",
      " 59  square_feet                       446 non-null    float64\n",
      " 60  price                             16313 non-null  object \n",
      " 61  weekly_price                      2879 non-null   object \n",
      " 62  monthly_price                     2703 non-null   object \n",
      " 63  security_deposit                  10095 non-null  object \n",
      " 64  cleaning_fee                      11400 non-null  object \n",
      " 65  guests_included                   16313 non-null  int64  \n",
      " 66  extra_people                      16313 non-null  object \n",
      " 67  minimum_nights                    16313 non-null  int64  \n",
      " 68  maximum_nights                    16313 non-null  int64  \n",
      " 69  calendar_updated                  16313 non-null  object \n",
      " 70  has_availability                  16313 non-null  object \n",
      " 71  availability_30                   16313 non-null  int64  \n",
      " 72  availability_60                   16313 non-null  int64  \n",
      " 73  availability_90                   16313 non-null  int64  \n",
      " 74  availability_365                  16313 non-null  int64  \n",
      " 75  calendar_last_scraped             16313 non-null  object \n",
      " 76  number_of_reviews                 16313 non-null  int64  \n",
      " 77  first_review                      13261 non-null  object \n",
      " 78  last_review                       13290 non-null  object \n",
      " 79  review_scores_rating              13118 non-null  float64\n",
      " 80  review_scores_accuracy            13105 non-null  float64\n",
      " 81  review_scores_cleanliness         13111 non-null  float64\n",
      " 82  review_scores_checkin             13089 non-null  float64\n",
      " 83  review_scores_communication       13104 non-null  float64\n",
      " 84  review_scores_location            13083 non-null  float64\n",
      " 85  review_scores_value               13082 non-null  float64\n",
      " 86  requires_license                  16313 non-null  object \n",
      " 87  license                           1511 non-null   object \n",
      " 88  jurisdiction_names                0 non-null      float64\n",
      " 89  instant_bookable                  16313 non-null  object \n",
      " 90  is_business_travel_ready          16313 non-null  object \n",
      " 91  cancellation_policy               16313 non-null  object \n",
      " 92  require_guest_profile_picture     16313 non-null  object \n",
      " 93  require_guest_phone_verification  16313 non-null  object \n",
      " 94  calculated_host_listings_count    16313 non-null  int64  \n",
      " 95  reviews_per_month                 13261 non-null  float64\n",
      "dtypes: float64(21), int64(13), object(62)\n",
      "memory usage: 11.9+ MB\n",
      "None\n"
     ]
    }
   ],
   "source": [
    "# Ladataan data\n",
    "if os.path.exists('data.csv'):\n",
    "        df = pd.read_csv('data.csv')\n",
    "else:\n",
    "    df = pd.read_csv('http://data.insideairbnb.com/spain/comunidad-de-madrid/madrid/2018-01-17/data/listings.csv.gz', compression='gzip')\n",
    "    df.to_csv('data.csv')\n",
    "    \n",
    "print(df.info())"
   ]
  },
  {
   "cell_type": "code",
   "execution_count": 4,
   "id": "brazilian-courage",
   "metadata": {},
   "outputs": [
    {
     "name": "stdout",
     "output_type": "stream",
     "text": [
      "  host_response_time host_response_rate  review_scores_rating\n",
      "0       within a day                60%                  89.0\n",
      "1     within an hour               100%                  91.0\n",
      "2     within an hour               100%                  79.0\n",
      "3     within an hour               100%                  90.0\n",
      "4     within an hour               100%                  80.0\n",
      "['within a day' 'within an hour' 'within a few hours' nan\n",
      " 'a few days or more']\n"
     ]
    }
   ],
   "source": [
    "df = df[['host_response_time', 'host_response_rate','review_scores_rating']]\n",
    "\n",
    "print(df.head())\n",
    "print(df.host_response_time.unique())"
   ]
  },
  {
   "cell_type": "code",
   "execution_count": 5,
   "id": "ecological-necessity",
   "metadata": {},
   "outputs": [],
   "source": [
    "# Poistetaan kaikki tyhjän arvon sisältävät rivit\n",
    "df = df.dropna()"
   ]
  },
  {
   "cell_type": "code",
   "execution_count": 6,
   "id": "thick-warehouse",
   "metadata": {},
   "outputs": [],
   "source": [
    "df.host_response_rate = df.host_response_rate.str.strip('%')\n",
    "df.host_response_rate = pd.to_numeric(df.host_response_rate)"
   ]
  },
  {
   "cell_type": "code",
   "execution_count": 7,
   "id": "attached-response",
   "metadata": {},
   "outputs": [],
   "source": [
    "# Muutetaan host_response_time attribuutti kategorialliseksi muuttujaksi\n",
    "le = preprocessing.LabelEncoder()\n",
    "\n",
    "arr = le.fit_transform(df.host_response_time)\n",
    "\n",
    "df.host_response_time = arr"
   ]
  },
  {
   "cell_type": "code",
   "execution_count": 8,
   "id": "affiliated-dubai",
   "metadata": {},
   "outputs": [
    {
     "name": "stdout",
     "output_type": "stream",
     "text": [
      "[1 3 3 ... 3 3 3]\n"
     ]
    }
   ],
   "source": [
    "print(arr)"
   ]
  },
  {
   "cell_type": "code",
   "execution_count": 10,
   "id": "infectious-router",
   "metadata": {},
   "outputs": [
    {
     "data": {
      "image/png": "[encoded data removed]",
      "text/plain": [
       "<Figure size 1440x720 with 1 Axes>"
      ]
     },
     "metadata": {
      "needs_background": "light"
     },
     "output_type": "display_data"
    }
   ],
   "source": [
    "# Lineaarinen regressio\n",
    "lr = linear_model.LinearRegression()\n",
    "\n",
    "# Määritellään muuttujat\n",
    "y = df.review_scores_rating\n",
    "X = df.drop(columns='review_scores_rating')\n",
    "\n",
    "predict = cross_val_predict(lr, X, y, cv=10)\n",
    "\n",
    "fig, ax = plt.subplots(figsize=(20,10))\n",
    "ax.scatter(y, predict, edgecolors=(0, 0, 0))\n",
    "ax.plot([y.min(), y.max()], [y.min(), y.max()], 'k--', lw=4)\n",
    "plt.show()"
   ]
  },
  {
   "cell_type": "code",
   "execution_count": null,
   "id": "entertaining-wells",
   "metadata": {},
   "outputs": [],
   "source": []
  }
 ],
 "metadata": {
  "kernelspec": {
   "display_name": "Python 3",
   "language": "python",
   "name": "python3"
  },
  "language_info": {
   "codemirror_mode": {
    "name": "ipython",
    "version": 3
   },
   "file_extension": ".py",
   "mimetype": "text/x-python",
   "name": "python",
   "nbconvert_exporter": "python",
   "pygments_lexer": "ipython3",
   "version": "3.7.4"
  }
 },
 "nbformat": 4,
 "nbformat_minor": 5
}
