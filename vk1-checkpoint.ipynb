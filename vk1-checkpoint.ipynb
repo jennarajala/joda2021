{
 "cells": [
  {
   "cell_type": "code",
   "execution_count": 1,
   "id": "everyday-debate",
   "metadata": {},
   "outputs": [
    {
     "name": "stdout",
     "output_type": "stream",
     "text": [
      "Hello world\n"
     ]
    }
   ],
   "source": [
    "print('Hello world')"
   ]
  },
  {
   "cell_type": "markdown",
   "id": "suspended-glenn",
   "metadata": {
    "tags": []
   },
   "source": [
    "# Oppimispäiväkirja - Viikko 1\n",
    "\n",
    "Ensimmäisen viikon ensimmäisellä luennolla olo oli vielä hieman hämmentynyt, mutta odotukset kurssia kohtaan on ehdottomasti korkeella. Teknisempiä opintojaksoja ei ole pitkään aikaan ollut, missä olisi päässyt pistämään kunnolla kädet saveen. Myös harjooitustyö kuulostaa mielenkiintoiselta ja on mielenkiintoista nähdä mihin itse pystyy, kun ohjeistus ei tule suoraan annettuna ulkopuolelta. Kaksi vuotta olen töissä päässyt harjoittelemaan Googlen käyttöä (ei siis pilvialustan vaan hakukoneen), joten nyt nuo taidot pääsevät testiin. \n",
    "\n",
    "Ensimmäisellä luennolla esitetty Venn-diagrammi toi mieleen ohjelmistoalan yritysten rekrytointi-ilmoituksissa etsityt \"yksisarviset\", ja kuinka usein vaatimukset alalla ovat todella kovat. Itse olen myös ajatellut, että pitää olla diagrammin keskellä oleva täydellinen data scientist jos haluaisi työskennellä datatieteiden parissa. Vaikka tämä Venn-diagrammi on jonkin sortin meme, on se silti myös hyvä työkalu tarkastella omaa osaamistaan ja sitä, mihin sitä haluaa kehittää.  \n",
    "\n",
    "Usein myös ajatellaan, että datatiede koostuu vaan teknisestä osaamisesta, mutta oli hienoa kuulla, että myös liiketoimintaosaaminen ja viestintä ovat tärkeä osa datatiedettä. Nykyään, kun dataa on yleensä saatavilla liikaa kuin liian vähän, liiketoiminnan kannalta relevantin datan tunnistaminen, löytäminen ja hyödyntäminen on avainasemassa. Näin tietojohtamisen opiskelijana voisinkin todeta, että nyt olemme tietojohtamisen ytimessä.\n",
    "\n",
    "### Tärkeimmät opit\n",
    "1. Datatiede ei ole pelkästään koodaamista ja tietokantojen käpistelyä.\n",
    "2. Liiketoimintaosaaminen on tärkeässä roolissa datatieteessä.\n",
    "3. Yksin ei tarvitse olla \"yksisarvinen\" ja osata kaikkea, vaan paras lopputulos syntyy tiimeissä.\n",
    "4. Dataa on saatavilla todella paljon, myös julkisesti.\n",
    "5. Ala kehittyy todella kovaa vauhtia, mutta uusien teknologieoiden rinnalla myös kartoittavalle ja kuvailevalle analytiikalle on edelleen tarvetta. \n",
    "\n",
    "### Risut ja ruusut luentoviikolle\n",
    "+ Tykkäsin todella paljon siitä, että luentomuistio on Jupyter Notebook -muodossa, ja että luento sisälsi myös konkreettisia koodiesimerkkejä.\n",
    "+ Hyvä johdatus aiheeseen, tärkeää ymmärtää datatieteen monipuolisuus heti aluksi.\n",
    "+ Tykkään, että toteutuksessa käytetään eri oppimisympäristöjä kuin muilla kursseilla, ja että tämä oppimispäiväkirja ei ole perinteinen word-dokumentti, sillä tässä oppii koko ajan uutta.\n",
    "- Vähän jäi vielä hämmentynyt olo siitä, että mitä tällä kurssilla pitäisi konkreettisesti tehdä, ja miten pääsee alkuun esimerkiksi tämän oppimispäiväkirjan tai harjoitustyön kanssa. Perjantain koodiklinikka antoi onneksi joitain vastauksia tähän.\n",
    "\n",
    "### Kehitysehdotukset \n",
    "Ensi vuodelle voisi miettiä lyhyitä 5-15min opetusvideoita panoptoon, missä käydään läpi esimerkiksi tämän oppimispäiväkirjan pystytys. Toisaalta tykkään myös siitä ajatuksesta, että opiskelijat laitetaan itse etsimään tarvitsemansa tieto eikä kaikkea ojenneta suoraan, koska sitä tämän päivän työelämä kuitenkin on.\n",
    "\n",
    "*(Osallistuin molempiin oppimistapahtumiin, aineistona käytetty luentoa, luentomuistiota ja koodiklinikkaa. Koodiesimerkissä käytetty tämän lisäksi apuna stackoverflowta. Datasetti haettu Kagglesta.)*"
   ]
  },
  {
   "cell_type": "code",
   "execution_count": 2,
   "id": "cheap-motel",
   "metadata": {},
   "outputs": [],
   "source": [
    "# !pip install pandas\n",
    "# !pip install matplotlib"
   ]
  },
  {
   "cell_type": "code",
   "execution_count": 3,
   "id": "whole-preparation",
   "metadata": {},
   "outputs": [
    {
     "name": "stdout",
     "output_type": "stream",
     "text": [
      "<class 'pandas.core.frame.DataFrame'>\n",
      "RangeIndex: 7787 entries, 0 to 7786\n",
      "Data columns (total 12 columns):\n",
      " #   Column        Non-Null Count  Dtype \n",
      "---  ------        --------------  ----- \n",
      " 0   show_id       7787 non-null   object\n",
      " 1   type          7787 non-null   object\n",
      " 2   title         7787 non-null   object\n",
      " 3   director      5398 non-null   object\n",
      " 4   cast          7069 non-null   object\n",
      " 5   country       7280 non-null   object\n",
      " 6   date_added    7777 non-null   object\n",
      " 7   release_year  7787 non-null   int64 \n",
      " 8   rating        7780 non-null   object\n",
      " 9   duration      7787 non-null   object\n",
      " 10  listed_in     7787 non-null   object\n",
      " 11  description   7787 non-null   object\n",
      "dtypes: int64(1), object(11)\n",
      "memory usage: 730.2+ KB\n",
      "None\n"
     ]
    }
   ],
   "source": [
    "# Koodiesimerkki - vk1\n",
    "# Muistellaan, miten tiedostoja käsitellään pythonilla, ja miten dataa voidaan pyöritellä\n",
    "\n",
    "# Declare the libraries that will be used\n",
    "import pandas as pd\n",
    "# Used to plot the results\n",
    "import matplotlib.pyplot as plt\n",
    "from matplotlib import style\n",
    "style.use('ggplot')\n",
    "\n",
    "# Use pandas to import data\n",
    "df = pd.read_csv(\"netflix_titles.csv\")\n",
    "print(df.info())"
   ]
  },
  {
   "cell_type": "code",
   "execution_count": 4,
   "id": "parental-innocent",
   "metadata": {},
   "outputs": [
    {
     "name": "stdout",
     "output_type": "stream",
     "text": [
      "show_id                 object\n",
      "type                    object\n",
      "title                   object\n",
      "director                object\n",
      "cast                    object\n",
      "country                 object\n",
      "date_added      datetime64[ns]\n",
      "release_year             int64\n",
      "rating                  object\n",
      "duration                object\n",
      "listed_in               object\n",
      "description             object\n",
      "dtype: object\n"
     ]
    }
   ],
   "source": [
    "# Convert object types\n",
    "df['date_added'] = pd.to_datetime(df['date_added'])\n",
    "print(df.dtypes)"
   ]
  },
  {
   "cell_type": "code",
   "execution_count": 5,
   "id": "active-customs",
   "metadata": {},
   "outputs": [
    {
     "name": "stdout",
     "output_type": "stream",
     "text": [
      "  show_id   type  title           director  \\\n",
      "0      s1     TV     3%                NaN   \n",
      "1      s2  Movie   7:19  Jorge Michel Grau   \n",
      "2      s3  Movie  23:59       Gilbert Chan   \n",
      "3      s4  Movie      9        Shane Acker   \n",
      "4      s5  Movie     21     Robert Luketic   \n",
      "\n",
      "                                                cast        country  \\\n",
      "0  João Miguel, Bianca Comparato, Michel Gomes, R...         Brazil   \n",
      "1  Demián Bichir, Héctor Bonilla, Oscar Serrano, ...         Mexico   \n",
      "2  Tedd Chan, Stella Chung, Henley Hii, Lawrence ...      Singapore   \n",
      "3  Elijah Wood, John C. Reilly, Jennifer Connelly...  United States   \n",
      "4  Jim Sturgess, Kevin Spacey, Kate Bosworth, Aar...  United States   \n",
      "\n",
      "  date_added  release_year rating   duration  \\\n",
      "0 2020-08-14          2020  TV-MA  4 Seasons   \n",
      "1 2016-12-23          2016  TV-MA     93 min   \n",
      "2 2018-12-20          2011      R     78 min   \n",
      "3 2017-11-16          2009  PG-13     80 min   \n",
      "4 2020-01-01          2008  PG-13    123 min   \n",
      "\n",
      "                                           listed_in  \\\n",
      "0  International TV Shows, TV Dramas, TV Sci-Fi &...   \n",
      "1                       Dramas, International Movies   \n",
      "2                Horror Movies, International Movies   \n",
      "3  Action & Adventure, Independent Movies, Sci-Fi...   \n",
      "4                                             Dramas   \n",
      "\n",
      "                                         description  \n",
      "0  In a future where the elite inhabit an island ...  \n",
      "1  After a devastating earthquake hits Mexico Cit...  \n",
      "2  When an army recruit is found dead, his fellow...  \n",
      "3  In a postapocalyptic world, rag-doll robots hi...  \n",
      "4  A brilliant group of students become card-coun...  \n"
     ]
    }
   ],
   "source": [
    "# Testing the apply function\n",
    "def modify_tv(x):\n",
    "    if x == \"TV Show\":\n",
    "        return \"TV\"\n",
    "    else:\n",
    "        return x\n",
    "    \n",
    "df['type'] = df['type'].apply(modify_tv)\n",
    "print(df.head())"
   ]
  },
  {
   "cell_type": "code",
   "execution_count": 6,
   "id": "right-carpet",
   "metadata": {},
   "outputs": [
    {
     "name": "stdout",
     "output_type": "stream",
     "text": [
      "[1925 1942 1943 1944 1945 1946 1947 1954 1955 1956 1958 1959 1960 1962\n",
      " 1963 1964 1965 1966 1967 1968 1969 1970 1971 1972 1973 1974 1975 1976\n",
      " 1977 1978 1979 1980 1981 1982 1983 1984 1985 1986 1987 1988 1989 1990\n",
      " 1991 1992 1993 1994 1995 1996 1997 1998 1999 2000 2001 2002 2003 2004\n",
      " 2005 2006 2007 2008 2009 2010 2011 2012 2013 2014 2015 2016 2017 2018\n",
      " 2019 2020 2021]\n"
     ]
    }
   ],
   "source": [
    "# See what kind of values we have in a column\n",
    "a = df['release_year'].unique()\n",
    "a.sort()\n",
    "print(a)"
   ]
  },
  {
   "cell_type": "code",
   "execution_count": 7,
   "id": "random-teddy",
   "metadata": {},
   "outputs": [
    {
     "data": {
      "text/plain": [
       "<AxesSubplot:>"
      ]
     },
     "execution_count": 7,
     "metadata": {},
     "output_type": "execute_result"
    },
    {
     "data": {
      "image/png": "[encoded data removed]",
      "text/plain": [
       "<Figure size 432x288 with 1 Axes>"
      ]
     },
     "metadata": {},
     "output_type": "display_data"
    }
   ],
   "source": [
    "# Plot the count of each type\n",
    "df['type'].value_counts().plot(kind='bar')"
   ]
  }
 ],
 "metadata": {
  "kernelspec": {
   "display_name": "Python 3",
   "language": "python",
   "name": "python3"
  },
  "language_info": {
   "codemirror_mode": {
    "name": "ipython",
    "version": 3
   },
   "file_extension": ".py",
   "mimetype": "text/x-python",
   "name": "python",
   "nbconvert_exporter": "python",
   "pygments_lexer": "ipython3",
   "version": "3.7.4"
  }
 },
 "nbformat": 4,
 "nbformat_minor": 5
}
