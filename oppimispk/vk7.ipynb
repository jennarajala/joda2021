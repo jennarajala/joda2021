{
 "cells": [
  {
   "cell_type": "markdown",
   "id": "comic-bradford",
   "metadata": {},
   "source": [
    "# Oppimispäiväkirja - Viikko 7\n",
    "\n",
    "Keskustelu datatuotteista herätti jälleen siihen, kuinka paljon erilaisia datatuotteita itsellä on käytössä, ja kuinka paljon erilaisia datan visualisointeja tulee seurattua päivittäin. Datatuote ei siis ole sinänsä uutta tietoa, mutta sen tarkemmin aiheeseen en ole kuitenkaan aikaisemmin perehtynyt. Vaikka huonoista ja hyvistä visualisoinneista on ennenkin ollut paljon puhetta, huomasin silti aamulla katsovani Ouran visualisointeja täysin uusin silmin ja käytin aikaa visualisointien tutkimiseen: miten erilaiset asiat on esitetty, kuinka paljon erilaisia visualisointeja sovelluksesta löytyy, ja pääseekö visualisointeihin itse vaikuttamaan? Vastaus: visualisointeja on todella, todella paljon, ja asiat on esitetty suhteellisen yksinkertaisesti, mutta kuitenkin monella eri tavalla. Yhdella vilkaisulla näkee helposti, mitä missäkin on. Visualisointeihin ei pääse oikeastaan itse vaikuttamaan, mutta toisaalta ne on niin hyvin tehty, etten kokisi siihen edes tarvetta. Alla esimerkki Ouran visualisoinneista:\n",
    "\n",
    "![Esimerkki Ouran Visualisoinneista](https://cdn.shopify.com/s/files/1/0163/4644/7926/products/pdp-prod-img-app.png?v=1600182470)\n",
    "\n",
    "Oli myös erittäin hyvä nosto, että visuaalisella analytiikalla on kaksi eri tarkoitusta. Visuaalinen analytiikka voi olla eksploratiivista, tai sitten se voi olla visualisointia. Tätä ei tule aina ajatelleeksi, vaan usein ajattelee visuaalisen analytiikan olevan vai jälkimmistä. Eksploratiivinen analytiikka on kuitenkin myös tärkeä osa visuaalista analytiikkaa. Esimerkiksi outliereiden eli poikkeavien arvojen etsimiseen voisi käyttää eksploratiivista analytiikkaa, ja toisaalta sen avulla voidaan myös löytää uusia kysymyksiä, joihin halutaan saada vastauksia. Tätä en ole tullut aikaisemmin niin tarkasti ajatelleeksi, mutta nyt kun asiaa ajattelee tarkemmin, ymmärtää sen tärkeyden.\n",
    "\n",
    "Streamlitin kokeilu kiinnosti itseäni kovasti, mutta aikaresurssit tulivat tässä keväällä vastaan. Tämän vuoksi Streamlit dema oli erittäin hyvä tällä luennolla ja mielenkiintoinen seurata. Tuo on toki sellainen asia, mitä voisi informaatioanalytiikan työkurssilla kokeilla myös, koska sovellus vaikutti todella mielenkiintoiselta ja hyödyntämiskelpoiselta tulevaisuudessa. \n",
    "\n",
    "Streamlit demossa esiteltiin karttavisualisointi, ja teinkin itse lähes vastaavan visualisoinnin harjoitustyössäni PowerBI:lla. Aloinkin pohtia Streamlitin ja PowerBI:n eroa tämän myötä, kumpi olisi parempi lähestymis- ja toteutustapa, ja mitä vahvuuksia ja heikkoksia molemmmissa on. Streamlitissä on varmasti etuna on se, että on helpompi jakaa ulkopuolisille, jos olen ymmärtänyt oikein. Myös koodipohjainen lähestymistapa antaa usein enemmän mahdollisuuksia ja vapaammat kädet toimia. Toisaalta, jos koodin kanssa ei ole niin sinut, ja etenkin jos firman sisällä on Microsoftin palvelut ja PowerBI jo valmiiksi käytössä ja dashboardeja pystyy sitä kautta jakamaan helposti muille, on se mielestäni myös todella hyvä ja helppokäyttöinen vaihtoehto.\n",
    "\n",
    "### Tärkeimmät opit\n",
    "1. Käytämme päivittäin monenlaisia eri datatuotteita ja erilaisia visualisointeja.\n",
    "2. Visualisointi voi toimia informaation tai jopa tietämyksen luojana, tai sitten se voi aiheuttaa tiedon katoamisen ja asiakkaan päätymiseen toiseen ratkaisuun. Visualisoinnilla on siis paljon merkitystä!\n",
    "3. Googlelta voi (tässäkin tapauksessa) aina pyytää apua kun miettii, millainen visualisointi mihinkin tilanteeseen parhaiten sopisi.\n",
    "4. Visuaalinen analytiikka voi olla joko ekploratiivista tai tulosten visualisointia.\n",
    "5. Datan visualisoinnin 7 askelta.\n",
    "5. Asioita voi tehdä todella monella eri tavalla ja päätyä samaan lopputulokseen, tärkeintä on valita itselle ja kuhunkin tilanteesen sopivin ratkaisu.\n",
    "\n",
    "### Risut ja ruusut luentoviikolle\n",
    "+ Streamlit demo oli todella mielenkiintoinen seurata.\n",
    "+ Mielestäni erillistä kertausluento ei olisikaan tässä tarvittu, vaan kokonaisuus oli oikein hyvä näin.\n",
    "+ Vähän vielä jäi epäselväksi (esimerkiksi harjoitustyön yhteydessä), mitä eroa on visualisoinnilla ja ns. käyttöönotolla. Itse ajattelin, että visualisointi on juuri tuo mikä tällä viikolla tehtiin Streamlitin avulla, ja käyttöönotto olisi mallin vieminen tuotantoon ja hyödyntäminen jossain palvelussa. Toki, jos ymmärsin oikein, Streamlitilla voisi tehdä myös visualisoinnin lisäksi palvelun, jossa luotua mallia voisi käyttää hyväksi.\n",
    "\n",
    "### Kehitysehdotukset \n",
    "Tuollaisia Streamlitin kaltaisia demoja voisi olla enemmänkin kurssin aikana enemmänkin! Koodiklinikalla on esitetty oikeastaan pelkkää koodausta, missä ei ole mitään vikaa, mutta toisaalta valmiita koodiesimerkkejä on netti täynnä. Voisiko tulevaisuudessa kurssin koodiklinikat jakaa niin, että osassa on puhtaasti koodidemoja, ja osassa on tällaisia Steamlitin kaltaisia demoja, missä näytetään samalla, miten jotakin palvelua voi hyödyntää?\n",
    "\n",
    "## Linkit ja lähteet:\n",
    "Koodiesimerkki: https://towardsdatascience.com/introduction-to-data-visualization-in-python-89a54c97fbed\n",
    "\n",
    "*(Katsoin molemmat oppimistapahtumat tallenteina. Aineistona käytetty yllä olevan linkin lisäksi luentoa, luentomuistiota ja koodiklinikkaa. Koodiesimerkin datasetti haettu Kagglesta.)*"
   ]
  },
  {
   "cell_type": "code",
   "execution_count": 1,
   "id": "official-beatles",
   "metadata": {},
   "outputs": [],
   "source": [
    "# Koodiesimerkki - vk7\n",
    "\n",
    "# Visualisointeja Pandas, Pyplot ja Seaborn kirjasojen avulla.\n",
    "\n",
    "import pandas as pd\n",
    "\n",
    "wine_reviews = pd.read_csv('winemag-data-130k-v2.csv', index_col=0)"
   ]
  },
  {
   "cell_type": "code",
   "execution_count": 2,
   "id": "ready-minute",
   "metadata": {},
   "outputs": [
    {
     "data": {
      "text/html": [
       "<div>\n",
       "<style scoped>\n",
       "    .dataframe tbody tr th:only-of-type {\n",
       "        vertical-align: middle;\n",
       "    }\n",
       "\n",
       "    .dataframe tbody tr th {\n",
       "        vertical-align: top;\n",
       "    }\n",
       "\n",
       "    .dataframe thead th {\n",
       "        text-align: right;\n",
       "    }\n",
       "</style>\n",
       "<table border=\"1\" class=\"dataframe\">\n",
       "  <thead>\n",
       "    <tr style=\"text-align: right;\">\n",
       "      <th></th>\n",
       "      <th>country</th>\n",
       "      <th>description</th>\n",
       "      <th>designation</th>\n",
       "      <th>points</th>\n",
       "      <th>price</th>\n",
       "      <th>province</th>\n",
       "      <th>region_1</th>\n",
       "      <th>region_2</th>\n",
       "      <th>taster_name</th>\n",
       "      <th>taster_twitter_handle</th>\n",
       "      <th>title</th>\n",
       "      <th>variety</th>\n",
       "      <th>winery</th>\n",
       "    </tr>\n",
       "  </thead>\n",
       "  <tbody>\n",
       "    <tr>\n",
       "      <th>0</th>\n",
       "      <td>Italy</td>\n",
       "      <td>Aromas include tropical fruit, broom, brimston...</td>\n",
       "      <td>Vulkà Bianco</td>\n",
       "      <td>87</td>\n",
       "      <td>NaN</td>\n",
       "      <td>Sicily &amp; Sardinia</td>\n",
       "      <td>Etna</td>\n",
       "      <td>NaN</td>\n",
       "      <td>Kerin O’Keefe</td>\n",
       "      <td>@kerinokeefe</td>\n",
       "      <td>Nicosia 2013 Vulkà Bianco  (Etna)</td>\n",
       "      <td>White Blend</td>\n",
       "      <td>Nicosia</td>\n",
       "    </tr>\n",
       "    <tr>\n",
       "      <th>1</th>\n",
       "      <td>Portugal</td>\n",
       "      <td>This is ripe and fruity, a wine that is smooth...</td>\n",
       "      <td>Avidagos</td>\n",
       "      <td>87</td>\n",
       "      <td>15.0</td>\n",
       "      <td>Douro</td>\n",
       "      <td>NaN</td>\n",
       "      <td>NaN</td>\n",
       "      <td>Roger Voss</td>\n",
       "      <td>@vossroger</td>\n",
       "      <td>Quinta dos Avidagos 2011 Avidagos Red (Douro)</td>\n",
       "      <td>Portuguese Red</td>\n",
       "      <td>Quinta dos Avidagos</td>\n",
       "    </tr>\n",
       "    <tr>\n",
       "      <th>2</th>\n",
       "      <td>US</td>\n",
       "      <td>Tart and snappy, the flavors of lime flesh and...</td>\n",
       "      <td>NaN</td>\n",
       "      <td>87</td>\n",
       "      <td>14.0</td>\n",
       "      <td>Oregon</td>\n",
       "      <td>Willamette Valley</td>\n",
       "      <td>Willamette Valley</td>\n",
       "      <td>Paul Gregutt</td>\n",
       "      <td>@paulgwine</td>\n",
       "      <td>Rainstorm 2013 Pinot Gris (Willamette Valley)</td>\n",
       "      <td>Pinot Gris</td>\n",
       "      <td>Rainstorm</td>\n",
       "    </tr>\n",
       "    <tr>\n",
       "      <th>3</th>\n",
       "      <td>US</td>\n",
       "      <td>Pineapple rind, lemon pith and orange blossom ...</td>\n",
       "      <td>Reserve Late Harvest</td>\n",
       "      <td>87</td>\n",
       "      <td>13.0</td>\n",
       "      <td>Michigan</td>\n",
       "      <td>Lake Michigan Shore</td>\n",
       "      <td>NaN</td>\n",
       "      <td>Alexander Peartree</td>\n",
       "      <td>NaN</td>\n",
       "      <td>St. Julian 2013 Reserve Late Harvest Riesling ...</td>\n",
       "      <td>Riesling</td>\n",
       "      <td>St. Julian</td>\n",
       "    </tr>\n",
       "    <tr>\n",
       "      <th>4</th>\n",
       "      <td>US</td>\n",
       "      <td>Much like the regular bottling from 2012, this...</td>\n",
       "      <td>Vintner's Reserve Wild Child Block</td>\n",
       "      <td>87</td>\n",
       "      <td>65.0</td>\n",
       "      <td>Oregon</td>\n",
       "      <td>Willamette Valley</td>\n",
       "      <td>Willamette Valley</td>\n",
       "      <td>Paul Gregutt</td>\n",
       "      <td>@paulgwine</td>\n",
       "      <td>Sweet Cheeks 2012 Vintner's Reserve Wild Child...</td>\n",
       "      <td>Pinot Noir</td>\n",
       "      <td>Sweet Cheeks</td>\n",
       "    </tr>\n",
       "  </tbody>\n",
       "</table>\n",
       "</div>"
      ],
      "text/plain": [
       "    country                                        description  \\\n",
       "0     Italy  Aromas include tropical fruit, broom, brimston...   \n",
       "1  Portugal  This is ripe and fruity, a wine that is smooth...   \n",
       "2        US  Tart and snappy, the flavors of lime flesh and...   \n",
       "3        US  Pineapple rind, lemon pith and orange blossom ...   \n",
       "4        US  Much like the regular bottling from 2012, this...   \n",
       "\n",
       "                          designation  points  price           province  \\\n",
       "0                        Vulkà Bianco      87    NaN  Sicily & Sardinia   \n",
       "1                            Avidagos      87   15.0              Douro   \n",
       "2                                 NaN      87   14.0             Oregon   \n",
       "3                Reserve Late Harvest      87   13.0           Michigan   \n",
       "4  Vintner's Reserve Wild Child Block      87   65.0             Oregon   \n",
       "\n",
       "              region_1           region_2         taster_name  \\\n",
       "0                 Etna                NaN       Kerin O’Keefe   \n",
       "1                  NaN                NaN          Roger Voss   \n",
       "2    Willamette Valley  Willamette Valley        Paul Gregutt   \n",
       "3  Lake Michigan Shore                NaN  Alexander Peartree   \n",
       "4    Willamette Valley  Willamette Valley        Paul Gregutt   \n",
       "\n",
       "  taster_twitter_handle                                              title  \\\n",
       "0          @kerinokeefe                  Nicosia 2013 Vulkà Bianco  (Etna)   \n",
       "1            @vossroger      Quinta dos Avidagos 2011 Avidagos Red (Douro)   \n",
       "2           @paulgwine       Rainstorm 2013 Pinot Gris (Willamette Valley)   \n",
       "3                   NaN  St. Julian 2013 Reserve Late Harvest Riesling ...   \n",
       "4           @paulgwine   Sweet Cheeks 2012 Vintner's Reserve Wild Child...   \n",
       "\n",
       "          variety               winery  \n",
       "0     White Blend              Nicosia  \n",
       "1  Portuguese Red  Quinta dos Avidagos  \n",
       "2      Pinot Gris            Rainstorm  \n",
       "3        Riesling           St. Julian  \n",
       "4      Pinot Noir         Sweet Cheeks  "
      ]
     },
     "execution_count": 2,
     "metadata": {},
     "output_type": "execute_result"
    }
   ],
   "source": [
    "wine_reviews.head()"
   ]
  },
  {
   "cell_type": "code",
   "execution_count": 3,
   "id": "piano-sunset",
   "metadata": {},
   "outputs": [],
   "source": [
    "import matplotlib.pyplot as plt"
   ]
  },
  {
   "cell_type": "code",
   "execution_count": 4,
   "id": "infrared-ferry",
   "metadata": {},
   "outputs": [
    {
     "data": {
      "text/plain": [
       "Text(0, 0.5, 'Frequency')"
      ]
     },
     "execution_count": 4,
     "metadata": {},
     "output_type": "execute_result"
    },
    {
     "data": {
      "image/png": "[encoded data removed]",
      "text/plain": [
       "<Figure size 432x288 with 1 Axes>"
      ]
     },
     "metadata": {
      "needs_background": "light"
     },
     "output_type": "display_data"
    }
   ],
   "source": [
    "# Luodaan kuvaaja ja akselit\n",
    "fig, ax = plt.subplots()\n",
    "\n",
    "# Piirretään histogrammi\n",
    "ax.hist(wine_reviews['points'])\n",
    "\n",
    "# Asetetaan otsikot\n",
    "ax.set_title('Wine Review Scores')\n",
    "ax.set_xlabel('Points')\n",
    "ax.set_ylabel('Frequency')"
   ]
  },
  {
   "cell_type": "code",
   "execution_count": 5,
   "id": "precise-naples",
   "metadata": {},
   "outputs": [
    {
     "data": {
      "text/plain": [
       "<AxesSubplot:>"
      ]
     },
     "execution_count": 5,
     "metadata": {},
     "output_type": "execute_result"
    },
    {
     "data": {
      "image/png": "[encoded data removed]",
      "text/plain": [
       "<Figure size 432x288 with 1 Axes>"
      ]
     },
     "metadata": {
      "needs_background": "light"
     },
     "output_type": "display_data"
    }
   ],
   "source": [
    "# Pylväsdiagrammi Pandas kirjaston avulla\n",
    "wine_reviews['points'].value_counts().sort_index().plot.bar()"
   ]
  },
  {
   "cell_type": "code",
   "execution_count": 7,
   "id": "completed-language",
   "metadata": {},
   "outputs": [
    {
     "data": {
      "text/plain": [
       "<AxesSubplot:xlabel='country'>"
      ]
     },
     "execution_count": 7,
     "metadata": {},
     "output_type": "execute_result"
    },
    {
     "data": {
      "image/png": "[encoded data removed]",
      "text/plain": [
       "<Figure size 432x288 with 1 Axes>"
      ]
     },
     "metadata": {
      "needs_background": "light"
     },
     "output_type": "display_data"
    }
   ],
   "source": [
    "# Jaetaan data vielä kategorioihin maan perusteella\n",
    "wine_reviews.groupby(\"country\").price.mean().sort_values(ascending=False)[:8].plot.bar()"
   ]
  },
  {
   "cell_type": "code",
   "execution_count": 9,
   "id": "enhanced-spotlight",
   "metadata": {},
   "outputs": [
    {
     "name": "stdout",
     "output_type": "stream",
     "text": [
      "Collecting seaborn\n",
      "  Downloading seaborn-0.11.1-py3-none-any.whl (285 kB)\n",
      "Requirement already satisfied: pandas>=0.23 in c:\\users\\jenna.rajala\\appdata\\local\\programs\\python\\python37\\lib\\site-packages (from seaborn) (1.2.3)\n",
      "Requirement already satisfied: numpy>=1.15 in c:\\users\\jenna.rajala\\appdata\\local\\programs\\python\\python37\\lib\\site-packages (from seaborn) (1.20.1)\n",
      "Requirement already satisfied: scipy>=1.0 in c:\\users\\jenna.rajala\\appdata\\local\\programs\\python\\python37\\lib\\site-packages (from seaborn) (1.6.2)\n",
      "Requirement already satisfied: matplotlib>=2.2 in c:\\users\\jenna.rajala\\appdata\\local\\programs\\python\\python37\\lib\\site-packages (from seaborn) (3.3.4)\n",
      "Requirement already satisfied: kiwisolver>=1.0.1 in c:\\users\\jenna.rajala\\appdata\\local\\programs\\python\\python37\\lib\\site-packages (from matplotlib>=2.2->seaborn) (1.3.1)\n",
      "Requirement already satisfied: pyparsing!=2.0.4,!=2.1.2,!=2.1.6,>=2.0.3 in c:\\users\\jenna.rajala\\appdata\\local\\programs\\python\\python37\\lib\\site-packages (from matplotlib>=2.2->seaborn) (2.4.7)\n",
      "Requirement already satisfied: cycler>=0.10 in c:\\users\\jenna.rajala\\appdata\\local\\programs\\python\\python37\\lib\\site-packages (from matplotlib>=2.2->seaborn) (0.10.0)\n",
      "Requirement already satisfied: pillow>=6.2.0 in c:\\users\\jenna.rajala\\appdata\\local\\programs\\python\\python37\\lib\\site-packages (from matplotlib>=2.2->seaborn) (8.1.2)\n",
      "Requirement already satisfied: python-dateutil>=2.1 in c:\\users\\jenna.rajala\\appdata\\local\\programs\\python\\python37\\lib\\site-packages (from matplotlib>=2.2->seaborn) (2.8.1)\n",
      "Requirement already satisfied: six in c:\\users\\jenna.rajala\\appdata\\local\\programs\\python\\python37\\lib\\site-packages (from cycler>=0.10->matplotlib>=2.2->seaborn) (1.14.0)\n",
      "Requirement already satisfied: pytz>=2017.3 in c:\\users\\jenna.rajala\\appdata\\local\\programs\\python\\python37\\lib\\site-packages (from pandas>=0.23->seaborn) (2021.1)\n",
      "Installing collected packages: seaborn\n",
      "Successfully installed seaborn-0.11.1\n"
     ]
    },
    {
     "name": "stderr",
     "output_type": "stream",
     "text": [
      "WARNING: You are using pip version 21.0.1; however, version 21.1.1 is available.\n",
      "You should consider upgrading via the 'c:\\users\\jenna.rajala\\appdata\\local\\programs\\python\\python37\\python.exe -m pip install --upgrade pip' command.\n"
     ]
    }
   ],
   "source": [
    "!pip install seaborn"
   ]
  },
  {
   "cell_type": "code",
   "execution_count": 10,
   "id": "similar-blink",
   "metadata": {},
   "outputs": [],
   "source": [
    "import seaborn as sbn"
   ]
  },
  {
   "cell_type": "code",
   "execution_count": 13,
   "id": "meaning-bradley",
   "metadata": {},
   "outputs": [
    {
     "data": {
      "text/plain": [
       "<seaborn.axisgrid.FacetGrid at 0x16df2357ec8>"
      ]
     },
     "execution_count": 13,
     "metadata": {},
     "output_type": "execute_result"
    },
    {
     "data": {
      "image/png": "[encoded data removed]",
      "text/plain": [
       "<Figure size 360x360 with 1 Axes>"
      ]
     },
     "metadata": {
      "needs_background": "light"
     },
     "output_type": "display_data"
    }
   ],
   "source": [
    "sbn.displot(wine_reviews['points'], bins=10, kde=True)"
   ]
  }
 ],
 "metadata": {
  "kernelspec": {
   "display_name": "Python 3",
   "language": "python",
   "name": "python3"
  },
  "language_info": {
   "codemirror_mode": {
    "name": "ipython",
    "version": 3
   },
   "file_extension": ".py",
   "mimetype": "text/x-python",
   "name": "python",
   "nbconvert_exporter": "python",
   "pygments_lexer": "ipython3",
   "version": "3.7.4"
  }
 },
 "nbformat": 4,
 "nbformat_minor": 5
}
