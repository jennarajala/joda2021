{
 "cells": [
  {
   "cell_type": "markdown",
   "id": "civilian-miami",
   "metadata": {},
   "source": [
    "# Oppimispäiväkirja - Viikko 6\n",
    "\n",
    "Tämän viikon aiheista klusterointi eli ryvästäminen olikin entuudestaan tuttu Knowledge Mining and Big Data kurssilta, jossa käytimme Weka-ohjelmistoa. Kurssilla käytiin hyvin paljon samoja asioita läpi mitä tällä kurssilla on käyty, ja onkin ollut hauska kokeilla asioita sekä suoraan valmiin ohjelmiston avulla, että itse Python koodilla tehden. Koodilla tehdessä on toki se etu, että asioita ymmärtää ehkä hieman paremmin ja syvällisemmin, kun ei riitä pelkkä yhden napin painaminen ja koodi pitää itse tuottaa (tai katsoa mallista, mutta kuitenkin).\n",
    "\n",
    "En ollut ennen ajatellut, että klusterointia voi käyttää hyväksi myös siinä tapauksessa, kun uutta dataa tulee sisään. Esimerkki verkkokaupan asiakkaasta oli mielestäni todella hyvä ja mielenkiintoinen. Asiakkaasta pystytään jo valmiiksi erottamaan tiettyjä piirteitä ja asettamaan asiakas johonkin asiakasryhmään aiemmin tehdyn klusteroinnin perusteella. Tämän avulla asiakkaalle voidaan kohdentaa mainontaa ja esimerkiksi alennuskoodeja. \n",
    "\n",
    "Toisaalta kohdennettu mainonta on näin kuluttajan näkökulmasta aika ajoin hieman pelottava ja ahdistava asia. Kun kerran nettikaupassa katsomasi vaate pyörii seuraavan viikon sosiaalisen median mainoksissa, ja verkkokauppojen alennuskoodit saapuvat sähköpostiin aina tiettynä ajanhetkenä (maanantai-iltaisin, sillä silloin teen aina eniten heräteostoksia) tulee välttämättä mieleen se, kuinka paljon omaa verkkokäyttäytymistä seurataan, ja kuinka mahdotonta siihen on tänä päivänä itse vaikuttaa. Onhan se toisaalta myös kiva, että kun miettii tarvitsevansa uudet lenkkarit, seuraavana päivänä joka paikka pursuaa lenkkarimainoksia. Tällä on siis myös hyvät ja huonot puolensa. Asiaa on nyt mielenkiintoista pohtia erityisesti siitä näkökulmasta, että on itse nyt innostunut datatieteestä todella paljon ja on todella mielenkiintoista huomata, mitä kaikkea datalla voikaan tehdä ja on itse todella kiinnostunut oppimaan alasta lisää ja jopa pyrkiä siirtymään enemmän datapuolelle myös työelämässä. Samaan aikaan kuitenkin kohdennettu mainonta on asia, joka nostattaa karvat pystyyn ja jota vastaan jopa hieman on.\n",
    "\n",
    "Loppukevennyksenä ja luennon innoittamana halusin tutkia netflixin kategorioita, joita palvelu minulle ehdottaa. Tässä mielestäni parhaat:\n",
    "- Kirjoihin perustuvat historialliset: 1900-luku\n",
    "- Naisten käsikirjoittamat elokuvat\n",
    "- Työpaikkasarjat\n",
    "- Ongelmaperhesarjat\n",
    "- Suoraan uutisotsikoista\n",
    "- Kun ei nappaa olla aikuinen\n",
    "- Huumeparoneita, mafiapomoja ja gangstereita\n",
    "- Tarinoita mustien näkökulmasta\n",
    "- Henkilökunnan suosikit: katkeransuloiset\n",
    "\n",
    "### Tärkeimmät opit\n",
    "1. Ohjattu oppiminen vs. ohjaamaton oppiminen.\n",
    "2. Ei ole yhtä oikeaa tapaa luokitella asioita. Kuten Netflixin kategorioista huomaa, luovuus voi välillä olla jopa piristävää (\"Kun ei nappaa olla aikuinen\" vs. \"Komedia\"). \n",
    "3. Jos valmiita luokkia ei ole, ohjaamattoman oppimisen menetelmät sopivat paremmin.\n",
    "4. Vika ei välttämättä ole analyysissa, vaan vika voi olla myös datassa - carbage in carbage out. Datan tulee olla hyvää, jotta analyysit onnistuvat. Tämän vuoksi datan esikäsittely onkin tärkein vaihe.\n",
    "5. Analyyseihin tarvitaan paljon laskentatehoa.\n",
    "\n",
    "### Risut ja ruusut luentoviikolle\n",
    "+ Tällä luennolla oli hyvää vuorovaikutusta luennoitsijan ja opiskelijoiden välillä. Kysymykset olivat todella hyviä, vaikka itse ei päässyt niihin livenä vastaamaan. \n",
    "+ On hyvä, että luennolla annetaan paljon oikean elämän esimerkkejä. Kun asioita pystyy yhdistämään omaan joka päiväiseen elämäänsä, ymmärtää ja muistaa ne paremmin, sekä tajuaa asioiden merkityksen ja soveltamisen käytännössä.\n",
    "\n",
    "### Kehitysehdotukset\n",
    "Täytyy myöntää, että kehitysehdotukset alkavat käymään vähiin. Ehkä myös muita ryvästämismenetelmiä olisi voinut käsitellä, vaikka k-means klusterointi onkin niistä yleisin ja suosituin.\n",
    "\n",
    "## Linkit ja lähteet:\n",
    "Koodidemo: https://realpython.com/k-means-clustering-python/\n",
    "\n",
    "*(Katsoin molemmat oppimistapahtumat tallenteina. Aineistona käytetty yllä olevan linkin lisäksi luentoa, luentomuistiota ja koodiklinikkaa.)*"
   ]
  },
  {
   "cell_type": "code",
   "execution_count": 2,
   "id": "every-dietary",
   "metadata": {},
   "outputs": [
    {
     "name": "stdout",
     "output_type": "stream",
     "text": [
      "Collecting kneed\n",
      "  Downloading kneed-0.7.0-py2.py3-none-any.whl (9.4 kB)\n",
      "Requirement already satisfied: matplotlib in c:\\users\\jenna.rajala\\appdata\\local\\programs\\python\\python37\\lib\\site-packages (from kneed) (3.3.4)\n",
      "Requirement already satisfied: scipy in c:\\users\\jenna.rajala\\appdata\\local\\programs\\python\\python37\\lib\\site-packages (from kneed) (1.6.2)\n",
      "Requirement already satisfied: numpy>=1.14.2 in c:\\users\\jenna.rajala\\appdata\\local\\programs\\python\\python37\\lib\\site-packages (from kneed) (1.20.1)\n",
      "Requirement already satisfied: pillow>=6.2.0 in c:\\users\\jenna.rajala\\appdata\\local\\programs\\python\\python37\\lib\\site-packages (from matplotlib->kneed) (8.1.2)\n",
      "Requirement already satisfied: cycler>=0.10 in c:\\users\\jenna.rajala\\appdata\\local\\programs\\python\\python37\\lib\\site-packages (from matplotlib->kneed) (0.10.0)\n",
      "Requirement already satisfied: pyparsing!=2.0.4,!=2.1.2,!=2.1.6,>=2.0.3 in c:\\users\\jenna.rajala\\appdata\\local\\programs\\python\\python37\\lib\\site-packages (from matplotlib->kneed) (2.4.7)\n",
      "Requirement already satisfied: python-dateutil>=2.1 in c:\\users\\jenna.rajala\\appdata\\local\\programs\\python\\python37\\lib\\site-packages (from matplotlib->kneed) (2.8.1)\n",
      "Requirement already satisfied: kiwisolver>=1.0.1 in c:\\users\\jenna.rajala\\appdata\\local\\programs\\python\\python37\\lib\\site-packages (from matplotlib->kneed) (1.3.1)\n",
      "Requirement already satisfied: six in c:\\users\\jenna.rajala\\appdata\\local\\programs\\python\\python37\\lib\\site-packages (from cycler>=0.10->matplotlib->kneed) (1.14.0)\n",
      "Installing collected packages: kneed\n",
      "Successfully installed kneed-0.7.0\n"
     ]
    },
    {
     "name": "stderr",
     "output_type": "stream",
     "text": [
      "WARNING: You are using pip version 21.0.1; however, version 21.1.1 is available.\n",
      "You should consider upgrading via the 'c:\\users\\jenna.rajala\\appdata\\local\\programs\\python\\python37\\python.exe -m pip install --upgrade pip' command.\n"
     ]
    }
   ],
   "source": [
    "!pip install kneed"
   ]
  },
  {
   "cell_type": "code",
   "execution_count": 3,
   "id": "champion-shareware",
   "metadata": {},
   "outputs": [],
   "source": [
    "# Koodiesimerkki - vk6 \n",
    "\n",
    "# Haetaan tarvittavat kirjastot\n",
    "import pandas as pd\n",
    "import numpy as np\n",
    "import matplotlib.pyplot as plt\n",
    "\n",
    "from kneed import KneeLocator\n",
    "from sklearn.datasets import make_blobs\n",
    "from sklearn.cluster import KMeans\n",
    "from sklearn.metrics import silhouette_score\n",
    "from sklearn.preprocessing import StandardScaler"
   ]
  },
  {
   "cell_type": "code",
   "execution_count": 4,
   "id": "sought-globe",
   "metadata": {},
   "outputs": [],
   "source": [
    "# Luodaan synteettinen data ja labelit\n",
    "features, true_labels = make_blobs(n_samples=200, centers=3, cluster_std=2.75, random_state=42)"
   ]
  },
  {
   "cell_type": "code",
   "execution_count": 7,
   "id": "collected-politics",
   "metadata": {},
   "outputs": [
    {
     "data": {
      "text/plain": [
       "array([[  9.77075874,   3.27621022],\n",
       "       [ -9.71349666,  11.27451802],\n",
       "       [ -6.91330582,  -9.34755911],\n",
       "       [-10.86185913, -10.75063497],\n",
       "       [ -8.50038027,  -4.54370383]])"
      ]
     },
     "execution_count": 7,
     "metadata": {},
     "output_type": "execute_result"
    }
   ],
   "source": [
    "features[:5]"
   ]
  },
  {
   "cell_type": "code",
   "execution_count": 8,
   "id": "plain-theater",
   "metadata": {},
   "outputs": [
    {
     "data": {
      "text/plain": [
       "array([1, 0, 2, 2, 2])"
      ]
     },
     "execution_count": 8,
     "metadata": {},
     "output_type": "execute_result"
    }
   ],
   "source": [
    "true_labels[:5]"
   ]
  },
  {
   "cell_type": "code",
   "execution_count": 9,
   "id": "dense-corruption",
   "metadata": {},
   "outputs": [],
   "source": [
    "# Muutetaan datan jakauma standardoiduksi normaalijakaumaksi \n",
    "scaler = StandardScaler()\n",
    "scaled_features = scaler.fit_transform(features)"
   ]
  },
  {
   "cell_type": "code",
   "execution_count": 10,
   "id": "ignored-lithuania",
   "metadata": {},
   "outputs": [
    {
     "data": {
      "text/plain": [
       "array([[ 2.13082109,  0.25604351],\n",
       "       [-1.52698523,  1.41036744],\n",
       "       [-1.00130152, -1.56583175],\n",
       "       [-1.74256891, -1.76832509],\n",
       "       [-1.29924521, -0.87253446]])"
      ]
     },
     "execution_count": 10,
     "metadata": {},
     "output_type": "execute_result"
    }
   ],
   "source": [
    "scaled_features[:5]"
   ]
  },
  {
   "cell_type": "code",
   "execution_count": 11,
   "id": "supposed-messaging",
   "metadata": {},
   "outputs": [
    {
     "data": {
      "text/plain": [
       "KMeans(init='random', n_clusters=3, random_state=42)"
      ]
     },
     "execution_count": 11,
     "metadata": {},
     "output_type": "execute_result"
    }
   ],
   "source": [
    "# K-means ryvästäminen\n",
    "kmeans = KMeans(init=\"random\", n_clusters=3, n_init=10, max_iter=300, random_state=42)\n",
    "\n",
    "kmeans.fit(scaled_features)"
   ]
  },
  {
   "cell_type": "code",
   "execution_count": 12,
   "id": "historic-customs",
   "metadata": {},
   "outputs": [
    {
     "data": {
      "text/plain": [
       "array([[-0.25813925,  1.05589975],\n",
       "       [-0.91941183, -1.18551732],\n",
       "       [ 1.19539276,  0.13158148]])"
      ]
     },
     "execution_count": 12,
     "metadata": {},
     "output_type": "execute_result"
    }
   ],
   "source": [
    "# Klustereiden keskustojen (centroid) haku\n",
    "kmeans.cluster_centers_"
   ]
  },
  {
   "cell_type": "code",
   "execution_count": 13,
   "id": "preceding-seattle",
   "metadata": {},
   "outputs": [
    {
     "data": {
      "text/plain": [
       "array([2, 0, 1, 1, 1])"
      ]
     },
     "execution_count": 13,
     "metadata": {},
     "output_type": "execute_result"
    }
   ],
   "source": [
    "kmeans.labels_[:5]"
   ]
  }
 ],
 "metadata": {
  "kernelspec": {
   "display_name": "Python 3",
   "language": "python",
   "name": "python3"
  },
  "language_info": {
   "codemirror_mode": {
    "name": "ipython",
    "version": 3
   },
   "file_extension": ".py",
   "mimetype": "text/x-python",
   "name": "python",
   "nbconvert_exporter": "python",
   "pygments_lexer": "ipython3",
   "version": "3.7.4"
  }
 },
 "nbformat": 4,
 "nbformat_minor": 5
}
